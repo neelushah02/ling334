{
  "nbformat": 4,
  "nbformat_minor": 0,
  "metadata": {
    "colab": {
      "name": "LING 334 Final Project",
      "provenance": [],
      "collapsed_sections": []
    },
    "kernelspec": {
      "name": "python3",
      "display_name": "Python 3"
    },
    "language_info": {
      "name": "python"
    }
  },
  "cells": [
    {
      "cell_type": "markdown",
      "metadata": {
        "id": "47uaAp0B1JaS"
      },
      "source": [
        "Setting up Connection to Drive"
      ]
    },
    {
      "cell_type": "code",
      "metadata": {
        "colab": {
          "base_uri": "https://localhost:8080/"
        },
        "id": "CAzjSK0BPouv",
        "outputId": "3414a002-9b65-456d-90a4-d4f17f61e310"
      },
      "source": [
        "#importing my google drive, which is where the embeddings are stored\n",
        "from google.colab import drive\n",
        "drive.mount('/content/gdrive')"
      ],
      "execution_count": 1,
      "outputs": [
        {
          "output_type": "stream",
          "name": "stdout",
          "text": [
            "Mounted at /content/gdrive\n"
          ]
        }
      ]
    },
    {
      "cell_type": "markdown",
      "metadata": {
        "id": "Uf7cF-su1SUf"
      },
      "source": [
        "Preprocessing to Create Dict with Word, Embedding and POS"
      ]
    },
    {
      "cell_type": "code",
      "metadata": {
        "id": "HF8qQP7hQIWB"
      },
      "source": [
        "#This section has two goals: dimension reduction of word vectors and POS tagging.\n",
        "\n",
        "#importing all necessary libraries\n",
        "import numpy as np\n",
        "import math\n",
        "import nltk\n",
        "import sklearn\n",
        "from sklearn.manifold import TSNE\n",
        "from sklearn.decomposition import PCA\n",
        "#using stanza for hindi NLP pipeline and its POS tagging\n",
        "!pip install stanza\n",
        "import stanza\n",
        "stanza.download('hi')\n",
        "nlp = stanza.Pipeline('hi')\n",
        "\n",
        "#create class, which when initiated dumps the 50-dimensional vectors, tagged with POS for most common 100,000 tokens.\n",
        "class Embeddings:\n",
        "  def __init__(self, fname='/content/gdrive/MyDrive/linguistics/cc.hi.300.vec'):\n",
        "    #reading the file, adding tokens as key to dictionary, embedding array as value.\n",
        "    fin = io.open(fname, 'r', encoding='utf-8', newline='\\n', errors='ignore')\n",
        "    self.data = {}\n",
        "    temp = 0\n",
        "    for line in fin:\n",
        "        if temp>100000:\n",
        "          break\n",
        "        temp+=1\n",
        "        tokens = line.rstrip().split(' ')\n",
        "        self.data[tokens[0]] = [float(x) for x in tokens[1:]]\n",
        "    del self.data['1876653']\n",
        "    self.words = []\n",
        "    self.pos = []\n",
        "    for counter, word in enumerate(self.data):\n",
        "      if counter==0:\n",
        "        self.a = np.array([self.data[word]])\n",
        "        self.words.append(word)\n",
        "        doc = nlp(word)\n",
        "        self.pos.append(doc.sentences[0].words[0].pos)\n",
        "      else:\n",
        "        self.a = np.append(self.a,[self.data[word]],axis=0)\n",
        "        self.words.append(word)\n",
        "        doc = nlp(word)\n",
        "        self.pos.append(doc.sentences[0].words[0].pos)\n",
        "    \n",
        "    #reducing dimensions\n",
        "    pca = PCA(n_components=50)\n",
        "    self.new_dims = pca.fit_transform(self.a)\n",
        "    #fixing the data\n",
        "    self.data = dict(zip(self.words, zip(self.new_dims, self.pos)))\n",
        "\n",
        "e = Embeddings()\n",
        "\n",
        "#dumping the new file out\n",
        "import pickle\n",
        "a_file = open(\"data100k.pkl\", \"wb\")\n",
        "pickle.dump(e.data, a_file)\n",
        "a_file.close()"
      ],
      "execution_count": null,
      "outputs": []
    },
    {
      "cell_type": "markdown",
      "metadata": {
        "id": "B-QXqaQv2sGc"
      },
      "source": [
        "Loading in the Model"
      ]
    },
    {
      "cell_type": "code",
      "metadata": {
        "id": "wOAgk5EPBsOI"
      },
      "source": [
        "#once the new, dimension-reduced, trimmed file has been created, can load it in directly.\n",
        "#importing the necessary libraries\n",
        "import pickle\n",
        "import io \n",
        "import numpy as np\n",
        "import math\n",
        "import nltk\n",
        "import sklearn\n",
        "import matplotlib.pyplot as plt\n",
        "temp = open(\"/content/gdrive/MyDrive/linguistics/data100k.pkl\", \"rb\")\n",
        "#loading the embeddings into a dictionary \n",
        "data = pickle.load(temp)"
      ],
      "execution_count": 2,
      "outputs": []
    },
    {
      "cell_type": "markdown",
      "metadata": {
        "id": "1Yd1ldFO2lOc"
      },
      "source": [
        "Useful Functions"
      ]
    },
    {
      "cell_type": "code",
      "metadata": {
        "id": "W1Fp8Ifm2Vbd"
      },
      "source": [
        "#creating useful functions in line with the vector embedding homework from class\n",
        "\n",
        "import numpy as np\n",
        "\n",
        "def vec_norm(vec):\n",
        "  square_vec = np.square(vec)\n",
        "  return math.sqrt(np.sum(square_vec))\n",
        "\n",
        "#gives the angle between two vectors, a key measure of similarity.\n",
        "def cosine_similarity(v1,v2):\n",
        "  new_v1 = v1\n",
        "  new_v2 = v2\n",
        "  if type(v1)==str:\n",
        "    new_v1 = data[v1][0]\n",
        "  if type(v2)==str:\n",
        "    new_v2 = data[v2][0]\n",
        "  return np.dot(new_v1,new_v2)/(vec_norm(new_v1)*vec_norm(new_v2))\n",
        "\n",
        "#given a vector and a number n, returns the most cosine-similar n words from the vocabulary.  \n",
        "def most_similar(vec,n):\n",
        "  sim_words = []\n",
        "  for word in data:\n",
        "    sim_words.append((word, cosine_similarity(word,vec)))\n",
        "  return sorted(sim_words, key=lambda tup: tup[1], reverse=True)[:n]\n",
        "\n",
        "#given a vector and a number n, returns the most cosine-similar n adjectives from the vocabulary.  \n",
        "def most_similar_adjectives(vec,n):\n",
        "  sim_words = []\n",
        "  for word in data:\n",
        "    if data[word][1]=='ADJ':\n",
        "      sim_words.append((word, cosine_similarity(word,vec)))\n",
        "  return sorted(sim_words, key=lambda tup: tup[1], reverse=True)[:n]"
      ],
      "execution_count": 3,
      "outputs": []
    },
    {
      "cell_type": "markdown",
      "metadata": {
        "id": "dXmtxor-5TgP"
      },
      "source": [
        "**Structure of Experiments**\n",
        "\n",
        "Two experiments- relating gender identity to professions, and religious groups to adjectives."
      ]
    },
    {
      "cell_type": "markdown",
      "source": [
        "Gender and Profession: Experiment in the Form of Garg et al"
      ],
      "metadata": {
        "id": "ozfXVWeA0gVu"
      }
    },
    {
      "cell_type": "code",
      "source": [
        "#two groups of words: identity words and neutral words\n",
        "#problem: in hindi nouns have two grammatical genders. \n",
        "\n",
        "#dictionary where key is profession in english (eg. teacher), value is tuple with two elements.\n",
        "#this tuple has male-grammatically-gendered profession in hindi as first element (eg. अध्यापक), female-gramatically-gendered profession as second element (eg. अध्यापिका)\n",
        "professions = {\n",
        "    'doctor':('डॉक्टर','डॉक्टर'),\n",
        "    'teacher':('शिक्षक', 'शिक्षिका'),\n",
        "    'lawyer':('वकील', 'वकील'),\n",
        "    'nurse':('नर्स', 'नर्स'),\n",
        "    'painter':('चित्रकार', 'चित्रकार'),\n",
        "    'poet/poetess':('कवि', 'कवयित्री'),\n",
        "    'actor/actress':('अभिनेता', 'अभिनेत्री'),\n",
        "    'cook':('रसोइया','रसोइया'),\n",
        "    'butcher':('कसाई','कसाई'),\n",
        "    'engineer':('इंजीनियर','इंजीनियर'),\n",
        "    'model':('मॉडेल','मॉडेल'),\n",
        "    'shopkeeper':('दुकानदार','दुकानदार')\n",
        "}\n",
        "#using subtraction of cos similarities means +ve is more associated with men, -ve with women\n",
        "#calculating differences for all professions in dict\n",
        "professions_array = [x for x in professions]\n",
        "professions_difference = []\n",
        "indexing = list(range(1,13))\n",
        "for profession in professions:\n",
        "  man_score = cosine_similarity('आदमी', professions[profession][0])\n",
        "  woman_score = cosine_similarity('औरत', professions[profession][1])\n",
        "  professions_difference.append(man_score-woman_score)\n",
        "\n",
        "#plotting output\n",
        "plt.scatter(indexing, professions_difference) #scatterplot\n",
        "plt.xticks([])  #hides x axis\n",
        "plt.axhline(y=0.0, color='r', linestyle='-') #add horizontal line at 0.0\n",
        "plt.title('Associations Between Gender and Profession')\n",
        "plt.ylabel('Difference of Cosine Similarities')\n",
        "plt.xlabel('Positive scores imply more association with men, negative with women.')\n",
        "for i, label in enumerate(professions_array):\n",
        "  plt.annotate(label, (indexing[i], professions_difference[i]))\n",
        "plt.show()"
      ],
      "metadata": {
        "colab": {
          "base_uri": "https://localhost:8080/",
          "height": 278
        },
        "id": "HGFtEFeo0eUK",
        "outputId": "dcdf1644-5fd4-4639-be69-0c6b6c798b07"
      },
      "execution_count": 10,
      "outputs": [
        {
          "output_type": "display_data",
          "data": {
            "image/png": "[encoded data removed]",
            "text/plain": [
              "<Figure size 432x288 with 1 Axes>"
            ]
          },
          "metadata": {
            "needs_background": "light"
          }
        }
      ]
    },
    {
      "cell_type": "markdown",
      "source": [
        "Relgious Groups and Adjectives"
      ],
      "metadata": {
        "id": "4DnNaSoRSePJ"
      }
    },
    {
      "cell_type": "code",
      "source": [
        "#religious groups: hindu, muslim with professions.\n",
        "religions = ['हिन्दू', 'मुसलमान'] #hindu, muslim\n",
        "adjectives = ['आतंकवादी', 'गंदगी', 'देशद्रोही', 'पाकिस्तानी', 'देशभक्त', 'क्रोधित', 'बस्ती'] #terrorist, dirtiness, traitor, pakistani, patriot, angry, ghetto\n",
        "for religion in religions:\n",
        "  for adjective in adjectives:\n",
        "    print(religion, adjective, cosine_similarity(adjective, religion))  \n",
        "\n"
      ],
      "metadata": {
        "colab": {
          "base_uri": "https://localhost:8080/"
        },
        "id": "mJShh1ibSisc",
        "outputId": "ec142e4a-be3a-40f2-a861-31023466ef69"
      },
      "execution_count": 9,
      "outputs": [
        {
          "output_type": "stream",
          "name": "stdout",
          "text": [
            "हिन्दू आतंकवादी 0.607142963532985\n",
            "हिन्दू गंदगी 0.11932379688236379\n",
            "हिन्दू देशद्रोही 0.567292477040979\n",
            "हिन्दू पाकिस्तानी 0.5061673327316398\n",
            "हिन्दू देशभक्त 0.5734066318914756\n",
            "हिन्दू क्रोधित 0.1972662147785429\n",
            "हिन्दू बस्ती 0.4735498428116608\n",
            "मुसलमान आतंकवादी 0.6719673961929101\n",
            "मुसलमान गंदगी 0.1891417418162129\n",
            "मुसलमान देशद्रोही 0.6117002312790452\n",
            "मुसलमान पाकिस्तानी 0.6889461741941411\n",
            "मुसलमान देशभक्त 0.6289834351738092\n",
            "मुसलमान क्रोधित 0.22527415796918043\n",
            "मुसलमान बस्ती 0.49406666456219245\n"
          ]
        }
      ]
    }
  ]
}